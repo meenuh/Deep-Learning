{
 "cells": [
  {
   "cell_type": "code",
   "execution_count": null,
   "metadata": {
    "collapsed": true
   },
   "outputs": [],
   "source": [
    "import tensorflow as tf\n",
    "import numpy as np\n",
    "import pandas as pd\n",
    "import matplotlib.pyplot as plt\n",
    "from skimage import transform\n",
    "\n",
    "tf.logging.set_verbosity(tf.logging.INFO)\n",
    "\n",
    "# Load data\n",
    "x_train = np.load('exam2_train_x.npy').astype(np.float32)\n",
    "y_train = np.load('exam2_train_y.npy').astype(int)\n",
    "# x_train = x_train/255.\n",
    "\n",
    "x_test = np.load('exam2_test_x.npy').astype(np.float32)\n",
    "y_test = np.load('exam2_test_y.npy').astype(int)\n",
    "# x_test = x_test/255."
   ]
  },
  {
   "cell_type": "code",
   "execution_count": 2,
   "metadata": {},
   "outputs": [],
   "source": [
    "def gen_augmented_data(x, y):\n",
    "    \n",
    "    new_x_imgs = []\n",
    "    new_y = []\n",
    "    for x_train, y_train in zip(x, y):\n",
    "\n",
    "        cw = transform.rotate(image=x_train, angle=15., mode='edge', resize=False, preserve_range=True)\n",
    "        ccw = transform.rotate(image=x_train, angle=-15., mode='edge', resize=False, preserve_range=True)\n",
    "\n",
    "        new_x_imgs.append(np.flipud(x_train))\n",
    "        new_y.append(y_train)\n",
    "        new_x_imgs.append(np.fliplr(x_train))\n",
    "        new_y.append(y_train)\n",
    "        new_x_imgs.append(cw)\n",
    "        new_y.append(y_train)\n",
    "        new_x_imgs.append(ccw)\n",
    "        new_y.append(y_train)\n",
    "\n",
    "    return new_x_imgs, new_y"
   ]
  },
  {
   "cell_type": "code",
   "execution_count": 5,
   "metadata": {},
   "outputs": [],
   "source": [
    "def conv_model(features, mode, labels):\n",
    "    input_layer = tf.reshape(features[\"x\"], [-1, 64, 64, 3])\n",
    "    \n",
    "    c1 = tf.layers.conv2d(inputs=input_layer, filters=8, kernel_size=[4, 4], padding='same',\n",
    "                          activation=tf.nn.relu, strides=2)\n",
    "    p1 = tf.layers.max_pooling2d(inputs=c1, pool_size=[5, 5], strides=1)\n",
    "    \n",
    "    c2 = tf.layers.conv2d(inputs=p1, filters=16, kernel_size=[4, 4], padding='same',\n",
    "                          activation=tf.nn.relu, strides=2)\n",
    "    p2 = tf.layers.max_pooling2d(inputs=c2, pool_size=[5, 5], strides=1)\n",
    "    \n",
    "    c3 = tf.layers.conv2d(inputs=p2, filters=32, kernel_size=[4, 4], padding='same',\n",
    "                          activation=tf.nn.relu, strides=1)\n",
    "    p3 = tf.layers.max_pooling2d(inputs=c3, pool_size=[2, 2], strides=1)\n",
    "    \n",
    "    c4 = tf.layers.conv2d(inputs=p3, filters=64, kernel_size=[4, 4], padding='same',\n",
    "                          activation=tf.nn.relu, strides=1)\n",
    "    p4 = tf.layers.max_pooling2d(inputs=c4, pool_size=[2, 2], strides=1)\n",
    "    \n",
    "    print(\"p4 size:\", p4.get_shape().as_list())\n",
    "    \n",
    "    a5 = tf.reshape(p4, [-1, 8*8*64])\n",
    "    z5 = tf.layers.dense(a5, units=108, activation=tf.nn.relu)\n",
    "    z5 = tf.layers.dropout(inputs=z5, rate=0.5, training=(mode == tf.estimator.ModeKeys.TRAIN))\n",
    "    \n",
    "    z6 = tf.layers.dense(z5, units=52, activation=tf.nn.relu)\n",
    "    z6 = tf.layers.dropout(inputs=z6, rate=0.5, training=(mode == tf.estimator.ModeKeys.TRAIN))\n",
    "    \n",
    "    z7 = tf.layers.dense(z6, units=6, activation=tf.nn.sigmoid)\n",
    "\n",
    "    predictions = {'classes': tf.argmax(input=z7, axis=1),\n",
    "                   'probabilities': tf.nn.softmax(z7, name=\"softmax_tensor\")}\n",
    "    \n",
    "    if mode == tf.estimator.ModeKeys.PREDICT:\n",
    "        return tf.estimator.EstimatorSpec(mode=mode, predictions=predictions)\n",
    "\n",
    "    onehot = tf.one_hot(indices=tf.cast(labels, tf.int32), depth=6)\n",
    "\n",
    "    loss = tf.losses.softmax_cross_entropy(onehot_labels=onehot, logits=z7)\n",
    "    if mode == tf.estimator.ModeKeys.TRAIN:\n",
    "        optimizer = tf.train.AdamOptimizer(learning_rate=0.01)\n",
    "        train_op = optimizer.minimize(\n",
    "        loss=loss,\n",
    "        global_step=tf.train.get_global_step())\n",
    "        return tf.estimator.EstimatorSpec(mode=mode, loss=loss, train_op=train_op)\n",
    "\n",
    "    eval_metric_ops = {\"accuracy\": tf.metrics.accuracy(labels=labels, predictions=predictions[\"classes\"])}\n",
    "    return tf.estimator.EstimatorSpec(mode=mode, loss=loss, eval_metric_ops=eval_metric_ops)"
   ]
  },
  {
   "cell_type": "code",
   "execution_count": 7,
   "metadata": {},
   "outputs": [],
   "source": [
    "tf.reset_default_graph()\n",
    "tf.set_random_seed(5)\n",
    "\n",
    "newx, newy = gen_augmented_data(x_train, y_train)\n",
    "x_train = np.append(x_train, newx, axis=0).astype(np.float32)\n",
    "y_train = np.append(y_train, newy, axis=0).astype(np.int)\n",
    "\n",
    "x_train = x_train/255.\n",
    "\n",
    "clf = tf.estimator.Estimator(model_fn=conv_model, model_dir='model')\n",
    "\n",
    "log_hook = tf.train.LoggingTensorHook(tensors={\"probabilities\": \"softmax_tensor\"}, every_n_iter=100)\n",
    "\n",
    "train_input = tf.estimator.inputs.numpy_input_fn(x={'x': x_train}, \n",
    "                                                 y=y_train, batch_size=85, \n",
    "                                                 num_epochs=None, shuffle=True)\n",
    "clf.train(input_fn=train_input, steps=1, hooks=[log_hook])"
   ]
  },
  {
   "cell_type": "code",
   "execution_count": 105,
   "metadata": {},
   "outputs": [
    {
     "name": "stdout",
     "output_type": "stream",
     "text": [
      "INFO:tensorflow:Starting evaluation at 2018-04-14-22:32:40\n"
     ]
    },
    {
     "name": "stdout",
     "output_type": "stream",
     "text": [
      "INFO:tensorflow:Restoring parameters from .\\model.ckpt-4101\n"
     ]
    },
    {
     "name": "stdout",
     "output_type": "stream",
     "text": [
      "INFO:tensorflow:Finished evaluation at 2018-04-14-22:32:41\n"
     ]
    },
    {
     "name": "stdout",
     "output_type": "stream",
     "text": [
      "INFO:tensorflow:Saving dict for global step 4101: accuracy = 0.15555556, global_step = 4101, loss = 1.7927731\n"
     ]
    },
    {
     "name": "stdout",
     "output_type": "stream",
     "text": [
      "{'accuracy': 0.15555556, 'loss': 1.7927731, 'global_step': 4101}\n"
     ]
    }
   ],
   "source": [
    "predict_input = tf.estimator.inputs.numpy_input_fn(\n",
    "    {'x': x_test}, y=y_test, num_epochs=1, shuffle=False)\n",
    "results = clf.evaluate(input_fn=predict_input)\n",
    "\n",
    "print(results)"
   ]
  },
  {
   "cell_type": "code",
   "execution_count": null,
   "metadata": {},
   "outputs": [],
   "source": []
  }
 ],
 "metadata": {
  "kernelspec": {
   "display_name": "Python 2",
   "language": "python",
   "name": "python2"
  },
  "language_info": {
   "codemirror_mode": {
    "name": "ipython",
    "version": 2
   },
   "file_extension": ".py",
   "mimetype": "text/x-python",
   "name": "python",
   "nbconvert_exporter": "python",
   "pygments_lexer": "ipython2",
   "version": "2.7.6"
  }
 },
 "nbformat": 4,
 "nbformat_minor": 0
}
