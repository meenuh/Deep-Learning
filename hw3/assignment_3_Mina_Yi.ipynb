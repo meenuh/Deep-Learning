{
 "cells": [
  {
   "cell_type": "code",
   "execution_count": 46,
   "metadata": {
    "collapsed": true
   },
   "outputs": [],
   "source": [
    "%matplotlib inline\n",
    "\n",
    "import pandas as pd\n",
    "import matplotlib.pyplot as plt\n",
    "import numpy as np\n",
    "import random as rand"
   ]
  },
  {
   "cell_type": "code",
   "execution_count": 47,
   "metadata": {},
   "outputs": [],
   "source": [
    "def sigmoid(x):\n",
    "    s = 1.0/(1.0 + np.exp(-x))\n",
    "    # cache = s\n",
    "    # return s, cache\n",
    "    return s"
   ]
  },
  {
   "cell_type": "code",
   "execution_count": 48,
   "metadata": {},
   "outputs": [],
   "source": [
    "def softmax(x):\n",
    "    # test = np.asarray(x)\n",
    "    e = np.exp(x)\n",
    "    s = np.divide(e, np.sum(e, axis=0))\n",
    "    # print(x.shape)\n",
    "    # print(np.sum(x, axis=0).shape)\n",
    "    # s = np.exp(test)/test.sum(0)\n",
    "    return s"
   ]
  },
  {
   "cell_type": "code",
   "execution_count": 49,
   "metadata": {},
   "outputs": [],
   "source": [
    "def one_hot_encoding(y, m):\n",
    "\n",
    "    encoded_matrix = np.zeros((m, 10))\n",
    "\n",
    "    for i in range(m):\n",
    "        # print(y[0, i])\n",
    "        encoded_matrix[i, y[0, i]] = 1.0\n",
    "      \n",
    "    return encoded_matrix"
   ]
  },
  {
   "cell_type": "code",
   "execution_count": 50,
   "metadata": {},
   "outputs": [],
   "source": [
    "# def forward_propogation(w, b, a):\n",
    "def forward_propagation(w1, w2, b1, b2, a0):\n",
    "    z1 = np.dot(w1, a0) + b1\n",
    "    a1 = sigmoid(z1)\n",
    "\n",
    "    assert(z1.shape == (w1.shape[0], a1.shape[1]))\n",
    "\n",
    "    z2 = np.dot(w2, a1) + b2\n",
    "    a2 = sigmoid(z2)\n",
    "    # a2 = sigmoid(z2)\n",
    "    # \n",
    "    # z = np.dot(w, a) + b\n",
    "    # \n",
    "    # lin_cache = (a, w, b)\n",
    "    # \n",
    "    # activation, a_cache = sigmoid(z)\n",
    "    # cache = (lin_cache, a_cache)\n",
    "    # \n",
    "    return a1, a2\n",
    "    # return activation, cache"
   ]
  },
  {
   "cell_type": "code",
   "execution_count": 51,
   "metadata": {},
   "outputs": [],
   "source": [
    "# def backward_propogation(da_curr, cache):\n",
    "def backward_propagation(a1, a2, x, y, m, w2):\n",
    "\n",
    "    dz2 = a2 - y\n",
    "    # print(dz2.shape, a1.shape)\n",
    "    dw2 = (1.0/m)*np.dot(dz2, a1.T)\n",
    "    db2 = (1.0/m) * np.sum(dz2, axis=1, keepdims=True)\n",
    "\n",
    "    # da1 = np.dot(w2.T, dz2)\n",
    "    # dz1 = da1 * a1 * (1-a1)\n",
    "    # dz1 = np.dot(dw2.T, dz2)*(a1*(1-a1))\n",
    "\n",
    "    dz1 = np.dot(w2.T, dz2)*(a1*(1-a1))\n",
    "    # dw1 = (1.0/m) * np.dot(dz1, x.T)\n",
    "    dw1 = (1.0/m) * np.dot(dz1, x.T)\n",
    "    db1 = (1.0/m) * np.sum(dz1, axis=1, keepdims=True)\n",
    "    # print(dw2.shape, dw1.shape)\n",
    "    \n",
    "    # l_cache, a_cache = cache\n",
    "    # a_prev, w, b = l_cache\n",
    "    # \n",
    "    # m = a_prev.shape[1]\n",
    "    # \n",
    "    # s, c = sigmoid(a_cache)\n",
    "    # \n",
    "    # dz = da_curr * s * (1-s)\n",
    "    # assert (dz.shape == da_curr.shape)\n",
    "    # # dz = da_curr - y\n",
    "    # \n",
    "    # dw = (1.0/m) * np.dot(dz, l_cache[0].T)\n",
    "    # db = (1.0/m) * np.sum(dz, axis=1, keepdims=True)\n",
    "    # da_prev = np.dot(l_cache[1].T, dz)\n",
    "    return dw1, dw2, db1, db2\n",
    "    # return dw, db, da_prev"
   ]
  },
  {
   "cell_type": "code",
   "execution_count": 81,
   "metadata": {
    "collapsed": false
   },
   "outputs": [
    {
     "name": "stdout",
     "output_type": "stream",
     "text": [
      "0.056174752345117686\n"
     ]
    },
    {
     "name": "stdout",
     "output_type": "stream",
     "text": [
      "(10, 3500)\n[0.08654475 0.08654454 0.0865446  0.08654471 0.08831734 0.0865451\n 0.08654572 0.08664269 0.08654457 0.21922599]\n"
     ]
    },
    {
     "data": {
      "image/png": "[encoded data removed]",
      "text/plain": [
       "<matplotlib.figure.Figure at 0x211d3090320>"
      ]
     },
     "metadata": {},
     "output_type": "display_data"
    }
   ],
   "source": [
    "def gradient_descent():\n",
    "    data = pd.read_csv('ex3_train.csv')\n",
    "    x = data.drop('y', axis=1).T\n",
    "    y = data['y'].values.reshape(1, -1)\n",
    "    m = y.shape[1]\n",
    "    cost = []\n",
    "    \n",
    "    alpha = 1 \n",
    "    epochs = 5000\n",
    "    \n",
    "    # init weights and bias\n",
    "    np.random.seed(1)\n",
    "    w1 = np.random.rand(25, 400) * 0.01\n",
    "    b1 = np.zeros((25, 1))\n",
    "    w2 = np.random.rand(10, 25) * 0.01\n",
    "    b2 = np.zeros((10, 1))\n",
    "\n",
    "    y = one_hot_encoding(y, y.shape[1]).T\n",
    "    \n",
    "    for epoch in range(epochs):\n",
    "        \n",
    "        a1, a2 = forward_propagation(w1, w2, b1, b2, x)\n",
    "\n",
    "        loss = -(1.0/m) * np.sum(np.multiply(y, np.log(a2)) + np.multiply(1.0 - y, np.log(1 - a2))) \n",
    "\n",
    "        loss = np.squeeze(loss)\n",
    "        cost.append(loss)\n",
    "         \n",
    "        dw1, dw2, db1, db2 = backward_propagation(a1, a2, x, y, m, w2)\n",
    "\n",
    "        w1 = w1 - (alpha * dw1)\n",
    "        b1 = b1 - (alpha * db1)\n",
    "        w2 = w2 - (alpha * dw2)\n",
    "        b2 = b2 - (alpha * db2)\n",
    "\n",
    "    plt.plot(np.squeeze(cost))\n",
    "    print(cost[-1])\n",
    "    \n",
    "    train_data = pd.read_csv('ex3_train.csv')\n",
    "    train = train_data.drop('y', axis=1).values.T\n",
    "\n",
    "    a1m, a2m = forward_propagation(w1, w2, b1, b2, train)\n",
    "    print(a2m.shape)\n",
    "    sm = softmax(a2m)\n",
    "    # print(sm)\n",
    "    print(sm[:, 1])\n",
    "    return\n",
    "\n",
    "\n",
    "gradient_descent()"
   ]
  },
  {
   "cell_type": "code",
   "execution_count": null,
   "metadata": {},
   "outputs": [],
   "source": []
  }
 ],
 "metadata": {
  "kernelspec": {
   "display_name": "Python 2",
   "language": "python",
   "name": "python2"
  },
  "language_info": {
   "codemirror_mode": {
    "name": "ipython",
    "version": 2
   },
   "file_extension": ".py",
   "mimetype": "text/x-python",
   "name": "python",
   "nbconvert_exporter": "python",
   "pygments_lexer": "ipython2",
   "version": "2.7.6"
  }
 },
 "nbformat": 4,
 "nbformat_minor": 0
}
